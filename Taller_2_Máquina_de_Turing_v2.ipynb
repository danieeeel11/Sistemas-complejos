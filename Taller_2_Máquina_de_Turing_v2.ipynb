{
  "cells": [
    {
      "cell_type": "markdown",
      "metadata": {
        "id": "tKGwAg2NjtFs"
      },
      "source": [
        "<div>\n",
        "<img src=\"data:image/png;base64,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\" align=\"right\"><br><br><FONT FACE=\"times new roman\" SIZE=5>\n",
        "<b></b>\n",
        "<br>\n",
        "<i><b>Docente:</b></i> Joaquín Sánchez Nuñez\n",
        "<br>\n",
        "<i><b>Asignatura:</b></i> Sistemas Complejos\n",
        "<br>\n",
        "<i><b>Estudiante:</b></i> Esteban Rodriguez, Laura Ojeda, Daniel Velásquez y Santiago Niño\n",
        "<br>\n",
        "<i><b>Tema:</b></i> Máquina de Turing\n",
        "<br>\n",
        "<br> 7 de marzo del 2024\n",
        "<br>\n",
        "</FONT>\n",
        "</div>"
      ]
    },
    {
      "cell_type": "markdown",
      "source": [
        "#Instrucciones"
      ],
      "metadata": {
        "id": "H6aWXi1cFzWN"
      }
    },
    {
      "cell_type": "markdown",
      "source": [
        "Implementar en python el concepto de máquina de Turing. Está máquina debe ser capaz de:\n",
        "\n",
        "\n",
        "\n",
        "*   Sumar\n",
        "*   Restar\n",
        "*   Multiplicar\n",
        "*   Dividir\n",
        "*   Potenciación\n",
        "*   El factorial de un numero entero.\n",
        "\n",
        "\n",
        "\n",
        "\n",
        "\n",
        "\n",
        "\n",
        "\n",
        "\n"
      ],
      "metadata": {
        "id": "1P4AoCSKF4Wz"
      }
    },
    {
      "cell_type": "markdown",
      "source": [
        "#Bibliotecas"
      ],
      "metadata": {
        "id": "stiIgl5QWOY6"
      }
    },
    {
      "cell_type": "code",
      "source": [
        "!pip install simpleeval"
      ],
      "metadata": {
        "colab": {
          "base_uri": "https://localhost:8080/"
        },
        "id": "U9xwTOaxFloi",
        "outputId": "db3a48d9-c9f4-415d-ebe6-acc7d4c9b6d2"
      },
      "execution_count": null,
      "outputs": [
        {
          "output_type": "stream",
          "name": "stdout",
          "text": [
            "Collecting simpleeval\n",
            "  Downloading simpleeval-0.9.13-py2.py3-none-any.whl (15 kB)\n",
            "Installing collected packages: simpleeval\n",
            "Successfully installed simpleeval-0.9.13\n"
          ]
        }
      ]
    },
    {
      "cell_type": "code",
      "execution_count": null,
      "metadata": {
        "id": "S3xPCZPnmZRT"
      },
      "outputs": [],
      "source": [
        "import re\n",
        "import math\n",
        "import matplotlib.pyplot as plt\n",
        "import networkx as nx\n",
        "from simpleeval import simple_eval, SimpleEval"
      ]
    },
    {
      "cell_type": "markdown",
      "source": [
        "#Contexto"
      ],
      "metadata": {
        "id": "pnGIjck2KUak"
      }
    },
    {
      "cell_type": "markdown",
      "source": [
        "El siguiente código implementa una máquina de Turing, un modelo teórico fundamental en ciencias computacionales propuesto por Alan Turing en 1936. Esta máquina es capaz de ejecutar operaciones aritméticas básicas ingresadas por el usuario, como sumar, restar, multiplicar, dividir, calcular potencias, factoriales de números enteros y la operación módulo. Utiliza una cinta infinita dividida en casillas, una cabeza lectora/escritora y un conjunto de estados de control para realizar las operaciones. La implementación se basa en la evaluación de expresiones matemáticas mediante la biblioteca SimpleEval de Python y una función personalizada para calcular factoriales. El flujo de ejecución se controla a través de un bucle principal que registra las transiciones de estado y las visualiza en un gráfico dirigido utilizando la biblioteca NetworkX. En conjunto, este código demuestra la versatilidad y potencia del modelo de máquina de Turing en la resolución de problemas computacionales.\n",
        "\n",
        "\n",
        "\n",
        "\n",
        "\n"
      ],
      "metadata": {
        "id": "hE6PhsFxKX0l"
      }
    },
    {
      "cell_type": "markdown",
      "source": [
        "#Implementación"
      ],
      "metadata": {
        "id": "l_yDkjN1Kokm"
      }
    },
    {
      "cell_type": "code",
      "source": [
        "class TuringMachine:\n",
        "    def __init__(self, tape):\n",
        "        self.tape = tape\n",
        "        self.head_position = 0\n",
        "        self.state = 'q1'\n",
        "        self.completed = False\n",
        "        self.result = None\n",
        "        self.se = SimpleEval()\n",
        "\n",
        "    def run(self):\n",
        "        transitions = []\n",
        "\n",
        "        print(f\"Comenzando la ejecución de la máquina de Turing...\\n\")\n",
        "\n",
        "        while not self.completed:\n",
        "            if self.state == 'q1':  # Estado para leer la expresión\n",
        "                transitions.append(('q1', 'q2', None))\n",
        "                print(f\"Estado actual: {self.state}\")\n",
        "                self.print_tape()\n",
        "                self.print_head_position()\n",
        "                self.print_state()\n",
        "                print(f\"Siguiente estado: q2\\n{'-'*40}\")\n",
        "\n",
        "                self.state = 'q2'\n",
        "\n",
        "            elif self.state == 'q2':  # Estado para realizar la operación\n",
        "                print(f\"Estado actual: {self.state}\")\n",
        "                self.print_tape()\n",
        "                self.print_head_position()\n",
        "                self.print_state()\n",
        "                print(f\"Siguiente estado: q3\\n{'-'*40}\")\n",
        "\n",
        "                expression = ''.join(self.tape).strip('_')\n",
        "                print(f\"Operación matemática ingresada: {expression}\\n\")\n",
        "                try:\n",
        "                    result = self.se.eval(expression)\n",
        "                    if isinstance(result, float):\n",
        "                        result = round(result, 2)  # Round to 2 decimal places\n",
        "                    self.result = result\n",
        "                except Exception as e:\n",
        "                    print(f\"Error al evaluar la expresión: {e}\")\n",
        "                    return\n",
        "                self.state = 'q3'\n",
        "                transitions.append(('q2', 'q3', expression))\n",
        "\n",
        "            elif self.state == 'q3':  # Estado para imprimir el resultado\n",
        "                print(f\"Estado actual: {self.state}\")\n",
        "                self.print_tape()\n",
        "                self.print_head_position()\n",
        "                self.print_state()\n",
        "                print(f\"Siguiente estado: fin\\n{'-'*40}\")\n",
        "\n",
        "                transitions.append(('q3', 'fin', str(self.result)))\n",
        "                print(f\"Resultado de la operación: {self.result}\")\n",
        "                self.state = 'fin'\n",
        "\n",
        "            elif self.state == 'fin':  # Estado final\n",
        "                self.completed = True\n",
        "\n",
        "            else:\n",
        "                print(\"Error: Estado desconocido\")\n",
        "                break\n",
        "\n",
        "            # Movimiento del cabezal de la cinta\n",
        "            if self.state != 'fin':\n",
        "                if self.head_position < len(self.tape) - 1:\n",
        "                    self.move_head_right()\n",
        "\n",
        "        print(f\"Estado actual: {self.state}\\n\")\n",
        "\n",
        "        # Crear el grafo\n",
        "        G = nx.DiGraph()\n",
        "        for transition in transitions:\n",
        "            if transition[2] is not None:\n",
        "                G.add_edge(transition[0], transition[1], label=transition[2])\n",
        "            else:\n",
        "                G.add_edge(transition[0], transition[1])\n",
        "\n",
        "        G.add_node('inicio')\n",
        "        G.add_node('fin')\n",
        "        G.add_edge('inicio', 'q1')\n",
        "        G.add_edge('q3', 'fin')\n",
        "\n",
        "        # Mostrar el grafo\n",
        "        plt.figure(figsize=(10, 6))\n",
        "        pos = nx.spring_layout(G)\n",
        "        nx.draw(G, pos, with_labels=True, node_size=1000, node_color=\"skyblue\", font_size=10, font_weight=\"bold\", arrowsize=20)\n",
        "        edge_labels = {(i, j): lab.get('label', '') for i, j, lab in G.edges(data=True)}\n",
        "        nx.draw_networkx_edge_labels(G, pos, edge_labels=edge_labels)\n",
        "        plt.show()\n",
        "\n",
        "        return\n",
        "\n",
        "    def print_tape(self):\n",
        "        tape_representation = [''] * len(self.tape)\n",
        "        for i, bit in enumerate(self.tape):\n",
        "            if bit.isdigit():\n",
        "                binary_value = bin(int(bit))[2:].zfill(4)\n",
        "                tape_representation[i] = f\"{binary_value} ({bit})\"\n",
        "            else:\n",
        "                tape_representation[i] = bit\n",
        "        tape_representation[self.head_position] = '^'\n",
        "        print(\" \".join(tape_representation))\n",
        "\n",
        "    def move_head_right(self):\n",
        "        self.head_position += 1\n",
        "        if self.head_position == len(self.tape):\n",
        "            self.tape.append('_')\n",
        "\n",
        "    def print_head_position(self):\n",
        "        print(f\"Posicion =  {self.head_position}\")\n",
        "\n",
        "    def print_state(self):\n",
        "        print(f\"Estado =  {self.state}\")\n",
        "\n",
        "# Parte principal del programa\n",
        "while True:\n",
        "    operation = input(\"Ingrese la operación a realizar (por ejemplo: '2+1'): \")\n",
        "\n",
        "    if not re.match(r'^[0-9\\+\\-\\*\\/%!]+$', operation):  # Added '%' and '!' for factorial\n",
        "        print(\"Error: La operación contiene caracteres no válidos.\")\n",
        "        continue\n",
        "\n",
        "    if '!' in operation:\n",
        "        number = int(operation[:-1])  # Extracting the number\n",
        "        result = 1\n",
        "        for i in range(1, number + 1):\n",
        "            result *= i\n",
        "        print(f\"El factorial de {number} es: {result}\")\n",
        "    else:\n",
        "        numbers = re.findall(r'[0-9]+', operation)\n",
        "        binary_numbers = [bin(int(number))[2:].zfill(4) for number in numbers]  # Ajuste a 4 bits\n",
        "        decimal_numbers = [str(int(number)) for number in numbers]\n",
        "        operation = re.sub(r'[0-9]+', '{}', operation)\n",
        "\n",
        "        tape = list(operation.format(*decimal_numbers)) + ['_']\n",
        "        tm = TuringMachine(tape)\n",
        "        tm.run()\n",
        "    break\n",
        "    #continuar = input(\"¿Desea realizar otra operación? (s/n): \")\n",
        "    #if continuar.lower() != 's':\n",
        "    #    print(\"¡Gracias por usar la máquina de Turing!\")\n",
        "    #    break"
      ],
      "metadata": {
        "colab": {
          "base_uri": "https://localhost:8080/"
        },
        "id": "8PwQlo706Ndn",
        "outputId": "32984e26-4aed-4a65-ee60-867f42182bb9"
      },
      "execution_count": null,
      "outputs": [
        {
          "output_type": "stream",
          "name": "stdout",
          "text": [
            "Ingrese la operación a realizar (por ejemplo: '2+1'): 10!\n",
            "El factorial de 10 es: 3628800\n"
          ]
        }
      ]
    }
  ],
  "metadata": {
    "colab": {
      "provenance": []
    },
    "kernelspec": {
      "display_name": "Python 3",
      "name": "python3"
    },
    "language_info": {
      "name": "python"
    }
  },
  "nbformat": 4,
  "nbformat_minor": 0
}