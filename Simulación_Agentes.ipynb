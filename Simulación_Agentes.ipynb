{
  "nbformat": 4,
  "nbformat_minor": 0,
  "metadata": {
    "colab": {
      "provenance": []
    },
    "kernelspec": {
      "name": "python3",
      "display_name": "Python 3"
    },
    "language_info": {
      "name": "python"
    }
  },
  "cells": [
    {
      "cell_type": "markdown",
      "source": [
        "**Integrantes:**\n",
        "\n",
        "***\n",
        "* Santiago Niño\n",
        "* Esteban Rodriguez\n",
        "* Daniel Velásquez\n",
        "* Laura Sofía Ojeda"
      ],
      "metadata": {
        "id": "fYtXAoaJxadO"
      }
    },
    {
      "cell_type": "markdown",
      "source": [
        "##**Simulación Basada en Agentes Colas *M/M/1/INF/INF* y *M/M/1/K/INF***"
      ],
      "metadata": {
        "id": "ebvz3uWHxcUH"
      }
    },
    {
      "cell_type": "markdown",
      "source": [
        "###**Instrucciones:**"
      ],
      "metadata": {
        "id": "hjWkUcR7xgGI"
      }
    },
    {
      "cell_type": "markdown",
      "source": [
        "* Utilizar el concepto de modelo basado en Agentes para la simular dos tipos de colas:\n",
        "  * M/M/1/INF/INF\n",
        "  * M/M/1/K/INF"
      ],
      "metadata": {
        "id": "XFbiJwX7xjUz"
      }
    },
    {
      "cell_type": "markdown",
      "source": [
        "\n",
        "* Realizar el análisis numérico para cada Cola y encontrar una expresión para:\n",
        "  * NS= numero de usuarios\n",
        "  * TS= tiempo en el sistema\n",
        "  * Nq= numero de usuarios en cola\n",
        "  * Ts= tiempo en cola."
      ],
      "metadata": {
        "id": "ZgBEcEDxxnR3"
      }
    },
    {
      "cell_type": "markdown",
      "source": [
        "\n",
        "* Comparar los resultados numéricos con los resultados simulados"
      ],
      "metadata": {
        "id": "ZGqpJu2jxp_F"
      }
    },
    {
      "cell_type": "markdown",
      "source": [
        "* ¿Cómo se comporta el sistema si se aumenta el numero de servidores?"
      ],
      "metadata": {
        "id": "iDursQ0gxswg"
      }
    },
    {
      "cell_type": "markdown",
      "source": [
        "##***Desarrollo:***"
      ],
      "metadata": {
        "id": "TnTl1QS363DS"
      }
    },
    {
      "cell_type": "markdown",
      "source": [
        "Para M/M/1/INF/INF:\n",
        "\n",
        "***\n",
        "\n",
        "* *Número de usuarios*\n",
        "\n",
        "\\begin{equation}\n",
        "NS = \\lambda \\times TS\n",
        "\\end{equation}\n",
        "\n",
        "* *Tiempo en el sistema*\n",
        "\\begin{equation}\n",
        "TS = \\frac{1}{\\mu - \\lambda}\n",
        "\\end{equation}\n",
        "\n",
        "* *Número de usuarios en la cola*\n",
        "\\begin{equation}\n",
        "N_q = \\frac{\\lambda^2}{2\\mu(\\mu - \\lambda)} - 1\n",
        "\\end{equation}\n",
        "\n",
        "* *Tiempo en cola*\n",
        "\\begin{equation}\n",
        "Ts = \\frac{N_q}{\\lambda}\n",
        "\\end{equation}"
      ],
      "metadata": {
        "id": "vr-cu7a85S61"
      }
    },
    {
      "cell_type": "markdown",
      "source": [
        "Para M/M/1/K/INF:\n",
        "\n",
        "***\n",
        "\n",
        "* *Número de usuarios*\n",
        "\\begin{equation}\n",
        "NS = \\lambda \\times TS\n",
        "\\end{equation}\n",
        "\n",
        "* *Tiempo en el sistema*\n",
        "\\begin{equation}\n",
        "TS = \\frac{1}{\\mu - \\lambda}\n",
        "\\end{equation}\n",
        "\n",
        "* *Número de usuarios en la cola*\n",
        "\\begin{equation}\n",
        "N_q = \\frac{\\lambda^2}{2\\mu(\\mu - \\lambda)} - 1\n",
        "\\end{equation}\n",
        "\n",
        "* *Tiempo en cola*\n",
        "\\begin{equation}\n",
        "Ts = \\frac{N_q}{\\lambda}\n",
        "\\end{equation}"
      ],
      "metadata": {
        "id": "lpsFVaNq5bll"
      }
    },
    {
      "cell_type": "code",
      "source": [
        "!pip install simpy"
      ],
      "metadata": {
        "colab": {
          "base_uri": "https://localhost:8080/"
        },
        "id": "FtsKhJ4Ak-8n",
        "outputId": "46f0c32f-cfcd-4df5-9da8-81a3df2cc0d6"
      },
      "execution_count": null,
      "outputs": [
        {
          "output_type": "stream",
          "name": "stdout",
          "text": [
            "Requirement already satisfied: simpy in /usr/local/lib/python3.10/dist-packages (4.1.1)\n"
          ]
        }
      ]
    },
    {
      "cell_type": "code",
      "source": [
        "import simpy\n",
        "import numpy as np"
      ],
      "metadata": {
        "id": "7kTNadXZ8a5z"
      },
      "execution_count": null,
      "outputs": []
    },
    {
      "cell_type": "markdown",
      "source": [
        "Se Define la clase para el servidor"
      ],
      "metadata": {
        "id": "5GjWxF4283zB"
      }
    },
    {
      "cell_type": "code",
      "source": [
        "class Server:\n",
        "    def __init__(self, env, mu, num_servers):\n",
        "        self.env = env\n",
        "        self.mu = mu\n",
        "        self.servers = [simpy.Resource(env, capacity=1) for _ in range(num_servers)]\n",
        "\n",
        "    def serve(self, service_time, server_id):\n",
        "        yield self.env.timeout(service_time)"
      ],
      "metadata": {
        "id": "gzMrmx5Z8dk1"
      },
      "execution_count": null,
      "outputs": []
    },
    {
      "cell_type": "markdown",
      "source": [
        "* Función para la llegada de usuarios al sistema\n",
        "* Se genera tiempo hasta la próxima llegada\n",
        "* Se crea un nuevo usuario"
      ],
      "metadata": {
        "id": "81IvIaUV88zT"
      }
    },
    {
      "cell_type": "code",
      "source": [
        "def arrival(env, servers, lambd):\n",
        "    while True:\n",
        "\n",
        "        interarrival_time = np.random.exponential(1 / lambd)\n",
        "        yield env.timeout(interarrival_time)\n",
        "\n",
        "        env.process(user(env, servers))\n"
      ],
      "metadata": {
        "id": "WyzlrBmC8dha"
      },
      "execution_count": null,
      "outputs": []
    },
    {
      "cell_type": "markdown",
      "source": [
        "* Función para el comportamiento de los usuarios\n",
        "  * Se elige el servidor menos ocupado\n",
        "  * Se espera a ser atendido por el servidor (yield request)\n",
        "  * Se genera el tiempo de servicio\n",
        "  * Se sirve al usuario\n",
        "  * Se calcula tiempo en el sistema y tiempo en cola\n",
        "  * Se registran las métricas"
      ],
      "metadata": {
        "id": "0XUumzhC9TAo"
      }
    },
    {
      "cell_type": "code",
      "source": [
        "def user(env, servers):\n",
        "    arrival_time = env.now\n",
        "\n",
        "    server_id = np.argmin([len(server.queue) for server in servers.servers])\n",
        "\n",
        "    with servers.servers[server_id].request() as request:\n",
        "\n",
        "        yield request\n",
        "\n",
        "        service_time = np.random.exponential(1 / mu)\n",
        "\n",
        "        yield env.process(servers.serve(service_time, server_id))\n",
        "\n",
        "        time_in_system = env.now - arrival_time\n",
        "        time_in_queue = time_in_system - service_time\n",
        "\n",
        "        total_users_in_system.append(len(servers.servers[server_id].queue) + 1)\n",
        "        total_time_in_system.append(time_in_system)\n",
        "        total_users_in_queue.append(len(servers.servers[server_id].queue))\n",
        "        total_time_in_queue.append(time_in_queue)\n"
      ],
      "metadata": {
        "id": "G8cdgUCq8deW"
      },
      "execution_count": null,
      "outputs": []
    },
    {
      "cell_type": "markdown",
      "source": [
        "### Simulación del sistema M/M/1/INF/INF"
      ],
      "metadata": {
        "id": "kdUO5T6e-IBc"
      }
    },
    {
      "cell_type": "code",
      "source": [
        "def simulate_mm1_inf_inf(lambd, mu, num_servers, sim_time):\n",
        "    env = simpy.Environment()\n",
        "    servers = Server(env, mu, num_servers)\n",
        "    env.process(arrival(env, servers, lambd))\n",
        "    env.run(until=sim_time)"
      ],
      "metadata": {
        "id": "KUnHffmQ8dbg"
      },
      "execution_count": null,
      "outputs": []
    },
    {
      "cell_type": "markdown",
      "source": [
        "### Simulación del sistema M/M/1/K/INF\n",
        "* (num_servers) Se establece la capacidad de la cola"
      ],
      "metadata": {
        "id": "sbMhrOtb-Nle"
      }
    },
    {
      "cell_type": "code",
      "source": [
        "def simulate_mm1_k_inf(lambd, mu, K, num_servers, sim_time):\n",
        "    env = simpy.Environment()\n",
        "    servers = Server(env, mu, num_servers)\n",
        "    servers.servers = [simpy.Resource(env, capacity=K) for _ in range(num_servers)]\n",
        "    env.process(arrival(env, servers, lambd))\n",
        "    env.run(until=sim_time)"
      ],
      "metadata": {
        "id": "UX5sXGTY8dYT"
      },
      "execution_count": null,
      "outputs": []
    },
    {
      "cell_type": "markdown",
      "source": [
        "* Se pide al usuario el número de servidores a probar\n",
        "* Se establecen los parametros de simulación\n",
        "  * Donde:\n",
        "    * lambd - tasa de llegada de usuarios\n",
        "    * mu - tasa de servicio del servidor\n",
        "    * K - tamaño máximo de la cola (INF para M/M/1/INF/INF)\n",
        "    * sim_time - tiempo de simulación"
      ],
      "metadata": {
        "id": "2BLGf-gf_NTo"
      }
    },
    {
      "cell_type": "markdown",
      "source": [
        "* Luego tenemos\n",
        "  * Las listas para registrar las metricas\n",
        "\n",
        "* Simulación M/M/1/INF/INF\n",
        "  * simulate_mm1_inf_inf\n"
      ],
      "metadata": {
        "id": "9hKV5wfRC-B4"
      }
    },
    {
      "cell_type": "markdown",
      "source": [
        "* Simulación M/M/1/K/INF\n",
        "  * simulate_mm1_k_inf"
      ],
      "metadata": {
        "id": "Ln2tK_ZIDZr0"
      }
    },
    {
      "cell_type": "markdown",
      "source": [
        "* Se convierten tiempos medios negativos en cola a cero"
      ],
      "metadata": {
        "id": "oeVULn1xHXlO"
      }
    },
    {
      "cell_type": "code",
      "source": [
        "num_servers = int(input(\"Ingrese el número de servidores a probar: \"))\n",
        "\n",
        "lambd = 0.2\n",
        "mu = 0.4\n",
        "K = float('inf')\n",
        "sim_time = 1000\n",
        "\n",
        "total_users_in_system = []\n",
        "total_time_in_system = []\n",
        "total_users_in_queue = []\n",
        "total_time_in_queue = []\n",
        "\n",
        "simulate_mm1_inf_inf(lambd, mu, num_servers, sim_time)\n",
        "\n",
        "print(\"Resultados para M/M/1/INF/INF con\")\n",
        "print(\"Número medio de usuarios en el sistema:\", np.mean(total_users_in_system))\n",
        "print(\"Tiempo medio en el sistema:\", np.mean(total_time_in_system))\n",
        "print(\"Número medio de usuarios en cola:\", np.mean(total_users_in_queue))\n",
        "print(\"Tiempo medio en cola:\", np.mean(total_time_in_queue))\n",
        "\n",
        "total_users_in_system = []\n",
        "total_time_in_system = []\n",
        "total_users_in_queue = []\n",
        "total_time_in_queue = []\n",
        "\n",
        "simulate_mm1_k_inf(lambd, mu, K, num_servers, sim_time)\n",
        "total_time_in_queue[:] = [max(0, time) for time in total_time_in_queue]\n",
        "\n",
        "print(\"\\nResultados para M/M/1/K/INF (con K = INF) con\", num_servers, \"servidores:\")\n",
        "print(\"Número medio de usuarios en el sistema:\", np.mean(total_users_in_system))\n",
        "print(\"Tiempo medio en el sistema:\", np.mean(total_time_in_system))\n",
        "print(\"Número medio de usuarios en cola:\", np.mean(total_users_in_queue))\n",
        "print(\"Tiempo medio en cola:\", np.mean(total_time_in_queue))"
      ],
      "metadata": {
        "colab": {
          "base_uri": "https://localhost:8080/"
        },
        "id": "MAOtcDDN-W3e",
        "outputId": "f41452ba-75c1-4ccd-cce3-d20e4b0e93a8"
      },
      "execution_count": null,
      "outputs": [
        {
          "output_type": "stream",
          "name": "stdout",
          "text": [
            "Ingrese el número de servidores a probar: 3\n",
            "Resultados para M/M/1/INF/INF con 3\n",
            "Número medio de usuarios en el sistema: 1.2681564245810055\n",
            "Tiempo medio en el sistema: 3.0481893468859966\n",
            "Número medio de usuarios en cola: 0.2681564245810056\n",
            "Tiempo medio en cola: 0.6577821211401399\n",
            "\n",
            "Resultados para M/M/1/K/INF (con K = INF) con 3 servidores:\n",
            "Número medio de usuarios en el sistema: 1.0\n",
            "Tiempo medio en el sistema: 2.6794100097444637\n",
            "Número medio de usuarios en cola: 0.0\n",
            "Tiempo medio en cola: 8.486735035078804e-15\n"
          ]
        }
      ]
    },
    {
      "cell_type": "markdown",
      "source": [
        "* ¿Cómo se comporta el sistema si se aumenta el numero de servidores?\n",
        "\n",
        "\n",
        "Al aumentar el número de servidores en el sistema, se observa que tanto el número medio de usuarios en el sistema como el tiempo medio en el sistema tienden a disminuir. Esto se debe a que hay más capacidad de servicio disponible para atender a los usuarios, lo que reduce la probabilidad de congestión y los tiempos de espera.\n",
        "\n",
        "En cuanto al número medio de usuarios en cola y el tiempo medio en cola, también tienden a disminuir al aumentar el número de servidores, ya que hay más capacidad disponible para procesar las solicitudes de los usuarios en cola, lo que reduce los tiempos de espera en la cola.\n",
        "\n",
        "Como conclusión, tenemos que al aumentar el número de servidores, el sistema tiende a volverse más eficiente y puede manejar un mayor volumen de usuarios con tiempos de espera más cortos y una menor congestión en la cola."
      ],
      "metadata": {
        "id": "UiRiNpmgF6J4"
      }
    },
    {
      "cell_type": "code",
      "source": [],
      "metadata": {
        "id": "zU1KoLBWLPYq"
      },
      "execution_count": null,
      "outputs": []
    }
  ]
}